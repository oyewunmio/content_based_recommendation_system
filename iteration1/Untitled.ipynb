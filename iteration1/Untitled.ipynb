{
 "cells": [
  {
   "cell_type": "code",
   "execution_count": 8,
   "metadata": {},
   "outputs": [],
   "source": [
    "# importing packages\n",
    "import load_dataset_module as ld\n",
    "import similarity_module as sm\n",
    "from importlib import reload\n",
    "from sys import exit"
   ]
  },
  {
   "cell_type": "code",
   "execution_count": 9,
   "metadata": {},
   "outputs": [
    {
     "name": "stdout",
     "output_type": "stream",
     "text": [
      "\n",
      "...Loading Results\n",
      "\n",
      "the Music Similarity between id 6KuQTIu1KoTTkLXKrwlLPV and 6KuQTIu1KoTTkLXKrwlLPV using cosine similarity is 1.0000000000000002\n",
      "\n",
      "...Loading Results\n",
      "\n",
      "the Music Similarity between id 6KuQTIu1KoTTkLXKrwlLPV and 6KuQTIu1KoTTkLXKrwlLPV using pearson similarity is 1.0\n"
     ]
    }
   ],
   "source": [
    "# main function\n",
    "def main():\n",
    "    'main function to utilize the whole modules'\n",
    "    try:\n",
    "        purpose = input('Do you want to show the similarity between Artists or Music Tracks.\\nEnter A for Artist, M for Music Tracks or Q to quit')\n",
    "        metric = str(input('Enter the metric to use for the similarities from the following\\n[euclidean, cosine,pearson,jaccard,manhattan]'))\n",
    "        if purpose.lower() == 'a':\n",
    "            Artist_features_data = ld.Artist_features() \n",
    "            artist_id1 = str([input('Enter the artist id to compare\\t')])\n",
    "            artist_id2 = str([input('Enter the second artist id to compare\\t')])\n",
    "            artist_sim = sm.similarity(Artist_features_data,artist_id1, artist_id2, metric)\n",
    "            print('----->Loading Results\\n')\n",
    "            print('the Artist Similarity between Artist {} and {} using {} similarity is {}'.format(artist_id1, artist_id2, metric, artist_sim))\n",
    "        elif purpose.lower() == 'm':\n",
    "            Music_features_data = ld.Music_features()\n",
    "            music_id1 = str(input('Enter the music id to compare\\t'))\n",
    "            music_id2 = str(input('Enter the second music id to compare with\\t'))\n",
    "            music_sim=sm.similarity(Music_features_data, music_id1, music_id2, metric)\n",
    "            print('\\n...Loading Results\\n')\n",
    "            print('the Music Similarity between id {} and {} using {} similarity is {}'.format(music_id1, music_id2, metric, music_sim))\n",
    "        else:\n",
    "            raise Exception('right option not given ..Try again')\n",
    "    except Exception as e:\n",
    "        print(e)\n",
    "\n",
    "try:\n",
    "    reload(ld)\n",
    "    reload(sm)\n",
    "    main()\n",
    "except Exception as e:\n",
    "    print('An error occured',e)\n",
    "    reload(ld)\n",
    "    reload(sm)\n",
    "    main()\n",
    "finally:\n",
    "    quit = input('Program finished.Do you want to exit or continue')\n",
    "    if quit.lower() == 'exit':\n",
    "        sys.quit()\n",
    "    else:\n",
    "        reload(ld)\n",
    "        reload(sm)\n",
    "        main()"
   ]
  }
 ],
 "metadata": {
  "kernelspec": {
   "display_name": "Python 3.7.6 64-bit ('anaconda3': virtualenv)",
   "language": "python",
   "name": "python37664bitanaconda3virtualenv4ed7e69d031643ecaefcfdf33d9048d1"
  },
  "language_info": {
   "codemirror_mode": {
    "name": "ipython",
    "version": 3
   },
   "file_extension": ".py",
   "mimetype": "text/x-python",
   "name": "python",
   "nbconvert_exporter": "python",
   "pygments_lexer": "ipython3",
   "version": "3.7.6"
  }
 },
 "nbformat": 4,
 "nbformat_minor": 4
}