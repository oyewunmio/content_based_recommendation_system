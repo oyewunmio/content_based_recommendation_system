{
 "cells": [
  {
   "cell_type": "code",
   "execution_count": 1,
   "metadata": {},
   "outputs": [],
   "source": [
    "# importing packages alternatives\n",
    "import cl_load_dataset as ld\n",
    "import ld2\n",
    "import ld3\n",
    "import similarity_alt as sm\n",
    "import sys\n"
   ]
  },
  {
   "cell_type": "code",
   "execution_count": 10,
   "metadata": {},
   "outputs": [
    {
     "data": {
      "text/plain": "<module 'cl_load_dataset' from '/home/anonymous/Documents/Workplace/pcp/cl_load_dataset.py'>"
     },
     "execution_count": 10,
     "metadata": {},
     "output_type": "execute_result"
    }
   ],
   "source": [
    "import importlib \n",
    "importlib.reload(ld3)\n",
    "importlib.reload(ld2)\n",
    "importlib.reload(ld)\n"
   ]
  },
  {
   "cell_type": "code",
   "execution_count": 11,
   "metadata": {},
   "outputs": [
    {
     "name": "stdout",
     "output_type": "stream",
     "text": [
      "['Bebamos Juntos - Instrumental (Remasterizado)', 'Kapote klapsame kai oi dio', 'Fantasy in C minor, BWV 919', 'Mambo Italiano', 'Piñataro - Remasterizado']\n"
     ]
    }
   ],
   "source": [
    "# main function\n",
    "def main():\n",
    "    'main function to utilize the whole modules'\n",
    "    try:\n",
    "        data = ld.Dataset_Module()\n",
    "        data2 = ld2.Dataset2_Module()\n",
    "        data3 = ld3.Dataset2_Module()\n",
    "        sim = sm.Similarity_Module()\n",
    "        purpose = input('Do you want to show the similarity between Artists or Music Tracks.\\nEnter A for Artist, M for Music Tracks or Q to quit')\n",
    "        metric = str(input('Enter the metric to use for the similarities from the following\\n[euclidean, cosine,pearson,jaccard,manhattan]'))\n",
    "        flag = str(input('enter True of False'))\n",
    "        if purpose.lower() == 'a':\n",
    "            a = data.Artist_music()\n",
    "            artist_id1 = str([input('Enter the artist id to compare\\t')])\n",
    "            artist_id2 = str([input('Enter the second artist id to compare\\t')])\n",
    "            artist_sim = sim.artists_similiar(a,artist_id1, artist_id2, metric, flag)\n",
    "            print('----->Loading Results\\n')\n",
    "            print('the Artist Similarity between Artist {} and {} using {} similarity is {}'.format(artist_id1, artist_id2, metric, artist_sim))\n",
    "        elif purpose.lower() == 'm':\n",
    "            music_id1 = str(input('Enter the music id to compare\\t'))\n",
    "            music_id2 = str(input('Enter the second music id to compare with\\t'))\n",
    "            mus_sim=sim.music_similiar(data.Music_features(), music_id1, music_id2, metric, flag,5)\n",
    "            print('\\n...Loading Results\\n')\n",
    "            print('the Music Similarity between id {} and {} using {} similarity is {}'.format(music_id1, music_id2, metric, mus_sim))\n",
    "        elif purpose.lower() == 'b':\n",
    "            artist_id = str([input('Enter the artist id to compare\\t')])\n",
    "            music_id = data2.Artist_tracks(artist_id)\n",
    "            result = sim.artist_music_similiar(data.Music_features(),music_id, metric,5)\n",
    "            song_names = []\n",
    "            for i in range(len(result)):\n",
    "                song_names.append(result[i][0])\n",
    "            song_name = data3.Song_getter(song_names)\n",
    "            print(song_name)\n",
    "        else:\n",
    "            raise Exception('right option not given ..Try again')\n",
    "    except Exception as e:\n",
    "        print(e)\n",
    "main()"
   ]
  }
 ],
 "metadata": {
  "kernelspec": {
   "display_name": "Python 3.7.6 64-bit ('anaconda3': virtualenv)",
   "language": "python",
   "name": "python37664bitanaconda3virtualenv4ed7e69d031643ecaefcfdf33d9048d1"
  },
  "language_info": {
   "codemirror_mode": {
    "name": "ipython",
    "version": 3
   },
   "file_extension": ".py",
   "mimetype": "text/x-python",
   "name": "python",
   "nbconvert_exporter": "python",
   "pygments_lexer": "ipython3",
   "version": "3.7.6-final"
  },
  "orig_nbformat": 2
 },
 "nbformat": 4,
 "nbformat_minor": 2
}